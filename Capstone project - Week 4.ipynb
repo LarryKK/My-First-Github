{
 "cells": [
  {
   "cell_type": "markdown",
   "metadata": {},
   "source": [
    "## Investigation of Healthcare Facility Availability in the Toronto Neighborhoods using FourSquare APIs."
   ]
  },
  {
   "cell_type": "markdown",
   "metadata": {},
   "source": [
    "### 1) Research Problem and Background "
   ]
  },
  {
   "cell_type": "markdown",
   "metadata": {},
   "source": [
    "Access to healthcare is a very important comodity, requiring equal consideration to make when especially when one is planning to move to a new or another neighborheed or buy property in a new neighborhood. This consideration is even more inportant to people who have limited mobility such as the elderly and people with disability.\n",
    "\n",
    "The importance of having Knowledge about the availability of healthcare in the neighborhood is not limited to people planning to move or buy property. It is also very important to people living in those neighborhoods to know how to and where to access healthcare within their neighborhood. Some people travel to work in other neighborhoods where they spend a majority of their day and it would be helpful if people know what type of services are available in those neighborhoods.\n",
    "\n",
    "Making available, information that people faced with making these considerations can use to be able to make informed decision about what neighborhood to choose can be of vital importance. The data product, created from this study will help to fill in this void."
   ]
  },
  {
   "cell_type": "markdown",
   "metadata": {},
   "source": [
    "### 2) Description of the Data used in this Study"
   ]
  },
  {
   "cell_type": "markdown",
   "metadata": {},
   "source": [
    "A data set that contains the Toronto neighborhoods names and the geographic coordinates of each neighbourhood is needed for this study. The geographic coordinates of each neighborhood is needed in order to be able to link with the FourSquare database and pull data on healthcare facilities in the neighborhood. Fortunately, part of this data is publicly available on the Wikipedia website. The complementary part of the data can also be freely scraped from the internet using a free geocoder Python package.\n",
    "\n",
    "The last and most important dataset needed for this study is the Toronto healthcare facilities dataset. FourSquare allows a free scraping of this dataset from their database. This data can be extracted by category of the facility and by neighborhood in which the facility belongs. This data contains information about the facility name, address of the facility and the the category of the facility. The data also contains other information that is not needed for this study. \n",
    "\n",
    "This data will help answer the following questions:\n",
    "\n",
    "a) What type of Healthcare facilities are available in each neighborhood?\n",
    "\n",
    "b) How many of each type of healthcare facilities are available in each neighborhood?\n",
    "\n",
    "c) What neighborhoods are similar in terms of the availability of healthcare facilities?\n",
    "\n",
    "d) What are the most common healthcare facilities in each neighborhood?"
   ]
  }
 ],
 "metadata": {
  "kernelspec": {
   "display_name": "Python 3",
   "language": "python",
   "name": "python3"
  },
  "language_info": {
   "codemirror_mode": {
    "name": "ipython",
    "version": 3
   },
   "file_extension": ".py",
   "mimetype": "text/x-python",
   "name": "python",
   "nbconvert_exporter": "python",
   "pygments_lexer": "ipython3",
   "version": "3.6.3"
  }
 },
 "nbformat": 4,
 "nbformat_minor": 2
}
