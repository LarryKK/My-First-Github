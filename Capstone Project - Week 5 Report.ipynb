{
 "cells": [
  {
   "cell_type": "markdown",
   "metadata": {},
   "source": [
    "## Investigation of Healthcare Facilities Availability in the Toronto Neighborhoods using FourSquare APIs."
   ]
  },
  {
   "cell_type": "markdown",
   "metadata": {},
   "source": [
    "### 1) Introduction and Study Background "
   ]
  },
  {
   "cell_type": "markdown",
   "metadata": {},
   "source": [
    "Access to healthcare is a very important comodity, requiring equal consideration to make when especially when one is planning to move to a new or another neighborheed or buy property in a new neighborhood. This consideration is even more inportant to people who have limited mobility such as the elderly and people with disability.\n",
    "\n",
    "The importance of having Knowledge about the availability of healthcare in the neighborhood is not limited to people planning to move or buy property. It is also very important to people living in those neighborhoods to know how to and where to access healthcare within their neighborhood. \n",
    "Some people travel to work in other neighborhoods where they spend a majority of their day and it would be helpful if people know what type of services are available in those neighborhoods. \n",
    "\n",
    "Making available, information that people faced with making these considerations can use to be able to make informed decision about what neighborhood to choose can be of vital importance. The data product, created from this study will help to fill in this void."
   ]
  },
  {
   "cell_type": "markdown",
   "metadata": {},
   "source": [
    "### 2) Description of the Data used in this Study"
   ]
  },
  {
   "cell_type": "markdown",
   "metadata": {},
   "source": [
    "A data set that contains the Toronto neighborhoods names and the geographic coordinates of each neighbourhood is needed for this study. The geographic coordinates of each neighborhood is needed in order to be able to link with the FourSquare database and pull data on healthcare facilities in the neighborhood. Fortunately, part of this data is publicly available on the Wikipedia website. The complementary part of the data can also be freely scraped from the internet using a free geocoder Python package.\n",
    "\n",
    "The last and most important dataset needed for this study is the Toronto healthcare facilities dataset. FourSquare allows a free scraping of this dataset from their database. This data can be extracted by category of the facility and by neighborhood in which the facility belongs. This data contains information about the facility name, address of the facility and the the category of the facility. The data also contains other information that is not needed for this study."
   ]
  },
  {
   "cell_type": "markdown",
   "metadata": {},
   "source": [
    "### 3) Research Questions in this Study"
   ]
  },
  {
   "cell_type": "markdown",
   "metadata": {},
   "source": [
    "This data used in this study will help answer the following questions:\n",
    "\n",
    "a) What type of Healthcare facilities are available in each neighborhood?\n",
    "\n",
    "b) How many of each type of healthcare facilities are available in each neighborhood?\n",
    "\n",
    "c) What neighborhoods are similar in terms of the availability of healthcare facilities?\n",
    "\n",
    "d) What are the top most common facilities in each neighborhood?"
   ]
  },
  {
   "cell_type": "markdown",
   "metadata": {},
   "source": [
    "### 4) Research Methodology"
   ]
  },
  {
   "cell_type": "markdown",
   "metadata": {},
   "source": [
    "#### 4.1) Data Collection"
   ]
  },
  {
   "cell_type": "markdown",
   "metadata": {},
   "source": [
    "Data collection was done in three steps:\n",
    "###### A) Toronto Boroughs and Neighborhoods\n",
    "Data on the Toronto Boroughs and Neighborhoods was scrapped from Wikipedia website (https://en.wikipedia.org/wiki/List_of_postal_codes_of_Canada:_M), using the Pandas Python Library. This dataset has three columns. The first column of this dataset is the first three digits of the postal code of each neighborhood. The second column is the name of the Borough and the last column is the name of the neighborhood. This dataset does not have the geography coordinates of the neighbourhoods.\n",
    "\n",
    "###### B) Toronto Neighborhoods geography coordinates\n",
    "The data on the geography coordinates of the neighborhoods can be scrapped using the Google Maps Geocoding API. However, Google does charge a fee. A Geocoder Python package which is free of charge can be used to scrape the data. However, this pakage is not very stable.I downloaded a prepared csv version of the data from the data from the following website: http://cocl.us/Geospatial_data. This data has three columns: the postal code column which contains the first three digits of the Toronto Neighborhoods postal codes, a lattitude column and a longitude column.\n",
    "\n",
    "###### C) Neighborhoods Health Facilities \n",
    "I used FourSquare APIs to scrape data on all types of healthcare facilities which are located within a radius of 3,000 meters around each neighborhood. I limited the number of healthcare facilities within this area, in each neighborhood to 3,000 facilities. This does not mean that a neighbourhood can be expected to have up to 3,000 healthcare facilities."
   ]
  },
  {
   "cell_type": "markdown",
   "metadata": {},
   "source": [
    "#### 4.2) Data Cleaning and preparation"
   ]
  },
  {
   "cell_type": "markdown",
   "metadata": {},
   "source": [
    "The Toronto neighborhood data scrapped from Wikipedia website contains rows for neighborhoods that have not yet been assigned. These rows were excluded from all analyses. In this dataset, the first three digits of the postal code could belong to more than one neighborhood. In this case, the neighborhoods with the same first three didgit postal code were merged together to create one row in the dataset. The final dataset had only unique postal codes in the data.\n",
    "\n",
    "The geography coordinates dataset was already cleaned and ready for use. The only change made was renaming of the columns to facilitate analysis.\n",
    "\n",
    "The neighborhoods health facilities data, scrapped from FourSquare comes in the form of a Jason data file format. This data file contains more than enough information. The is cleaned to keep only information about each facility's name, category, geography coordinates and the address.  "
   ]
  },
  {
   "cell_type": "markdown",
   "metadata": {},
   "source": [
    "#### 4.3) Data Analysis and Presentation of Results"
   ]
  },
  {
   "cell_type": "markdown",
   "metadata": {},
   "source": [
    "Simple descriptive methods were used to calculate descriptive statistics such as the number of health care categories in each neighborhood, the number of healthcare facilities in each category, the top 10 most common healthcare facilities in each neighborhood.\n",
    "\n",
    "The k-means clustering algorithm was used to segment and cluster neighborhoods, based on their similarity according to the type of healthcare facilities available in the neighborhoods.\n",
    "\n",
    "The Folium map visualization Python library was used to visualize the clustered neighborhoods in an interactive map that allows user to zoom in or out to explore the neighborhoods."
   ]
  },
  {
   "cell_type": "markdown",
   "metadata": {},
   "source": [
    "### 5) Results"
   ]
  },
  {
   "cell_type": "markdown",
   "metadata": {},
   "source": [
    "There were 103 Toronto neighborhoods analyzed in this study. Of these neighborhoods, data on 4,817 healthcare facilities were scraped from the FourSquare database. See Table 1 for the distribution of healthcare facilities by category of the facility."
   ]
  },
  {
   "cell_type": "code",
   "execution_count": 3,
   "metadata": {
    "scrolled": true
   },
   "outputs": [
    {
     "name": "stdout",
     "output_type": "stream",
     "text": [
      "Table 1 - Distribution of Healthcare Facilities by Facility Category.\n"
     ]
    },
    {
     "data": {
      "text/html": [
       "<div>\n",
       "<style>\n",
       "    .dataframe thead tr:only-child th {\n",
       "        text-align: right;\n",
       "    }\n",
       "\n",
       "    .dataframe thead th {\n",
       "        text-align: left;\n",
       "    }\n",
       "\n",
       "    .dataframe tbody tr th {\n",
       "        vertical-align: top;\n",
       "    }\n",
       "</style>\n",
       "<table border=\"1\" class=\"dataframe\">\n",
       "  <thead>\n",
       "    <tr style=\"text-align: right;\">\n",
       "      <th></th>\n",
       "      <th>Healthcare Facility Category</th>\n",
       "      <th>Count of Facility</th>\n",
       "    </tr>\n",
       "  </thead>\n",
       "  <tbody>\n",
       "    <tr>\n",
       "      <th>0</th>\n",
       "      <td>Doctor's Office</td>\n",
       "      <td>2243</td>\n",
       "    </tr>\n",
       "    <tr>\n",
       "      <th>1</th>\n",
       "      <td>Medical Center</td>\n",
       "      <td>2032</td>\n",
       "    </tr>\n",
       "    <tr>\n",
       "      <th>2</th>\n",
       "      <td>Medical Lab</td>\n",
       "      <td>169</td>\n",
       "    </tr>\n",
       "    <tr>\n",
       "      <th>3</th>\n",
       "      <td>Dentist's Office</td>\n",
       "      <td>169</td>\n",
       "    </tr>\n",
       "    <tr>\n",
       "      <th>4</th>\n",
       "      <td>Physical Therapist</td>\n",
       "      <td>46</td>\n",
       "    </tr>\n",
       "    <tr>\n",
       "      <th>5</th>\n",
       "      <td>Hospital</td>\n",
       "      <td>45</td>\n",
       "    </tr>\n",
       "    <tr>\n",
       "      <th>6</th>\n",
       "      <td>Chiropractor</td>\n",
       "      <td>19</td>\n",
       "    </tr>\n",
       "    <tr>\n",
       "      <th>7</th>\n",
       "      <td>Spa</td>\n",
       "      <td>14</td>\n",
       "    </tr>\n",
       "    <tr>\n",
       "      <th>8</th>\n",
       "      <td>Alternative Healer</td>\n",
       "      <td>10</td>\n",
       "    </tr>\n",
       "    <tr>\n",
       "      <th>9</th>\n",
       "      <td>Mental Health Office</td>\n",
       "      <td>10</td>\n",
       "    </tr>\n",
       "    <tr>\n",
       "      <th>10</th>\n",
       "      <td>Rehab Center</td>\n",
       "      <td>9</td>\n",
       "    </tr>\n",
       "    <tr>\n",
       "      <th>11</th>\n",
       "      <td>Eye Doctor</td>\n",
       "      <td>7</td>\n",
       "    </tr>\n",
       "    <tr>\n",
       "      <th>12</th>\n",
       "      <td>Acupuncturist</td>\n",
       "      <td>7</td>\n",
       "    </tr>\n",
       "    <tr>\n",
       "      <th>13</th>\n",
       "      <td>Massage Studio</td>\n",
       "      <td>6</td>\n",
       "    </tr>\n",
       "    <tr>\n",
       "      <th>14</th>\n",
       "      <td>Emergency Room</td>\n",
       "      <td>6</td>\n",
       "    </tr>\n",
       "    <tr>\n",
       "      <th>15</th>\n",
       "      <td>Pharmacy</td>\n",
       "      <td>6</td>\n",
       "    </tr>\n",
       "    <tr>\n",
       "      <th>16</th>\n",
       "      <td>Gym</td>\n",
       "      <td>6</td>\n",
       "    </tr>\n",
       "    <tr>\n",
       "      <th>17</th>\n",
       "      <td>Bank</td>\n",
       "      <td>5</td>\n",
       "    </tr>\n",
       "    <tr>\n",
       "      <th>18</th>\n",
       "      <td>Optical Shop</td>\n",
       "      <td>5</td>\n",
       "    </tr>\n",
       "    <tr>\n",
       "      <th>19</th>\n",
       "      <td>Maternity Clinic</td>\n",
       "      <td>3</td>\n",
       "    </tr>\n",
       "  </tbody>\n",
       "</table>\n",
       "</div>"
      ],
      "text/plain": [
       "   Healthcare Facility Category  Count of Facility\n",
       "0               Doctor's Office               2243\n",
       "1                Medical Center               2032\n",
       "2                   Medical Lab                169\n",
       "3              Dentist's Office                169\n",
       "4            Physical Therapist                 46\n",
       "5                      Hospital                 45\n",
       "6                  Chiropractor                 19\n",
       "7                           Spa                 14\n",
       "8            Alternative Healer                 10\n",
       "9          Mental Health Office                 10\n",
       "10                 Rehab Center                  9\n",
       "11                   Eye Doctor                  7\n",
       "12                Acupuncturist                  7\n",
       "13               Massage Studio                  6\n",
       "14               Emergency Room                  6\n",
       "15                     Pharmacy                  6\n",
       "16                          Gym                  6\n",
       "17                         Bank                  5\n",
       "18                 Optical Shop                  5\n",
       "19             Maternity Clinic                  3"
      ]
     },
     "execution_count": 3,
     "metadata": {},
     "output_type": "execute_result"
    }
   ],
   "source": [
    "print('Table 1 - Distribution of Healthcare Facilities by Facility Category.')\n",
    "pd.read_csv('toronto_healthcare_facility_categoris.csv')"
   ]
  },
  {
   "cell_type": "markdown",
   "metadata": {},
   "source": [
    "Of the 45 healthcare facilities that were classified under the category of Hospital, Central Bay Street, Queen's Park, and Ryerson, Garden District neighborhoods have the highest number of hospitals, with each having three healthcare facilities classified as hospitals. See Table 2 for the top 10 neighborhoods that had the highest number of healthcare facilities classified as Hopital. Of the 103 neighborhoos analyzed in this study, 68 of them did not have any healthcare facility classified as hospital."
   ]
  },
  {
   "cell_type": "code",
   "execution_count": 11,
   "metadata": {},
   "outputs": [
    {
     "name": "stdout",
     "output_type": "stream",
     "text": [
      "Table 2 - Top 10 Neighborhoods with the highest number of Healthcare Facilities classified as Hospital.\n"
     ]
    },
    {
     "data": {
      "text/html": [
       "<div>\n",
       "<style>\n",
       "    .dataframe thead tr:only-child th {\n",
       "        text-align: right;\n",
       "    }\n",
       "\n",
       "    .dataframe thead th {\n",
       "        text-align: left;\n",
       "    }\n",
       "\n",
       "    .dataframe tbody tr th {\n",
       "        vertical-align: top;\n",
       "    }\n",
       "</style>\n",
       "<table border=\"1\" class=\"dataframe\">\n",
       "  <thead>\n",
       "    <tr style=\"text-align: right;\">\n",
       "      <th></th>\n",
       "      <th>Neighborhood</th>\n",
       "      <th>Hospital</th>\n",
       "    </tr>\n",
       "  </thead>\n",
       "  <tbody>\n",
       "    <tr>\n",
       "      <th>0</th>\n",
       "      <td>Ryerson, Garden District</td>\n",
       "      <td>3</td>\n",
       "    </tr>\n",
       "    <tr>\n",
       "      <th>1</th>\n",
       "      <td>Queen's Park</td>\n",
       "      <td>3</td>\n",
       "    </tr>\n",
       "    <tr>\n",
       "      <th>2</th>\n",
       "      <td>Central Bay Street</td>\n",
       "      <td>3</td>\n",
       "    </tr>\n",
       "    <tr>\n",
       "      <th>3</th>\n",
       "      <td>Humber Bay, King's Mill Park, Kingsway Park So...</td>\n",
       "      <td>2</td>\n",
       "    </tr>\n",
       "    <tr>\n",
       "      <th>4</th>\n",
       "      <td>Harbord, University of Toronto</td>\n",
       "      <td>2</td>\n",
       "    </tr>\n",
       "    <tr>\n",
       "      <th>5</th>\n",
       "      <td>Humber Bay Shores, Mimico South, New Toronto</td>\n",
       "      <td>2</td>\n",
       "    </tr>\n",
       "    <tr>\n",
       "      <th>6</th>\n",
       "      <td>Church and Wellesley</td>\n",
       "      <td>2</td>\n",
       "    </tr>\n",
       "    <tr>\n",
       "      <th>7</th>\n",
       "      <td>Bedford Park, Lawrence Manor East</td>\n",
       "      <td>1</td>\n",
       "    </tr>\n",
       "    <tr>\n",
       "      <th>8</th>\n",
       "      <td>Brockton, Exhibition Place, Parkdale Village</td>\n",
       "      <td>1</td>\n",
       "    </tr>\n",
       "    <tr>\n",
       "      <th>9</th>\n",
       "      <td>Woodbine Heights</td>\n",
       "      <td>1</td>\n",
       "    </tr>\n",
       "  </tbody>\n",
       "</table>\n",
       "</div>"
      ],
      "text/plain": [
       "                                        Neighborhood  Hospital\n",
       "0                           Ryerson, Garden District         3\n",
       "1                                       Queen's Park         3\n",
       "2                                 Central Bay Street         3\n",
       "3  Humber Bay, King's Mill Park, Kingsway Park So...         2\n",
       "4                     Harbord, University of Toronto         2\n",
       "5       Humber Bay Shores, Mimico South, New Toronto         2\n",
       "6                               Church and Wellesley         2\n",
       "7                  Bedford Park, Lawrence Manor East         1\n",
       "8       Brockton, Exhibition Place, Parkdale Village         1\n",
       "9                                   Woodbine Heights         1"
      ]
     },
     "execution_count": 11,
     "metadata": {},
     "output_type": "execute_result"
    }
   ],
   "source": [
    "print('Table 2 - Top 10 Neighborhoods with the highest number of Healthcare Facilities classified as Hospital.')\n",
    "pd.read_csv('neighborhood_with_hospitals.csv')"
   ]
  },
  {
   "cell_type": "markdown",
   "metadata": {},
   "source": [
    "As shown in the Table 3, eight neighbourhoods had the highest number of healthcare facilities, classified as doctor's offices with each of them having 28 doctor's offices. Upper Rouge\tneighborhood had the least number of healthcare facilities, classified as doctor's offices."
   ]
  },
  {
   "cell_type": "code",
   "execution_count": 13,
   "metadata": {},
   "outputs": [
    {
     "name": "stdout",
     "output_type": "stream",
     "text": [
      "Table 3 - Top 10 Neighborhoods with the highest number of Healthcare Facilities classified as Doctor's Offices.\n"
     ]
    },
    {
     "data": {
      "text/html": [
       "<div>\n",
       "<style>\n",
       "    .dataframe thead tr:only-child th {\n",
       "        text-align: right;\n",
       "    }\n",
       "\n",
       "    .dataframe thead th {\n",
       "        text-align: left;\n",
       "    }\n",
       "\n",
       "    .dataframe tbody tr th {\n",
       "        vertical-align: top;\n",
       "    }\n",
       "</style>\n",
       "<table border=\"1\" class=\"dataframe\">\n",
       "  <thead>\n",
       "    <tr style=\"text-align: right;\">\n",
       "      <th></th>\n",
       "      <th>Neighborhood</th>\n",
       "      <th>Doctor's Office</th>\n",
       "    </tr>\n",
       "  </thead>\n",
       "  <tbody>\n",
       "    <tr>\n",
       "      <th>0</th>\n",
       "      <td>Bathurst Manor, Downsview North, Wilson Heights</td>\n",
       "      <td>28</td>\n",
       "    </tr>\n",
       "    <tr>\n",
       "      <th>1</th>\n",
       "      <td>CFB Toronto, Downsview East</td>\n",
       "      <td>28</td>\n",
       "    </tr>\n",
       "    <tr>\n",
       "      <th>2</th>\n",
       "      <td>Willowdale South</td>\n",
       "      <td>28</td>\n",
       "    </tr>\n",
       "    <tr>\n",
       "      <th>3</th>\n",
       "      <td>Emery, Humberlea</td>\n",
       "      <td>28</td>\n",
       "    </tr>\n",
       "    <tr>\n",
       "      <th>4</th>\n",
       "      <td>Don Mills North</td>\n",
       "      <td>28</td>\n",
       "    </tr>\n",
       "    <tr>\n",
       "      <th>5</th>\n",
       "      <td>Bedford Park, Lawrence Manor East</td>\n",
       "      <td>28</td>\n",
       "    </tr>\n",
       "    <tr>\n",
       "      <th>6</th>\n",
       "      <td>Flemingdon Park, Don Mills South</td>\n",
       "      <td>28</td>\n",
       "    </tr>\n",
       "    <tr>\n",
       "      <th>7</th>\n",
       "      <td>Bayview Village</td>\n",
       "      <td>28</td>\n",
       "    </tr>\n",
       "    <tr>\n",
       "      <th>8</th>\n",
       "      <td>York Mills West</td>\n",
       "      <td>27</td>\n",
       "    </tr>\n",
       "    <tr>\n",
       "      <th>9</th>\n",
       "      <td>Downsview Central</td>\n",
       "      <td>27</td>\n",
       "    </tr>\n",
       "  </tbody>\n",
       "</table>\n",
       "</div>"
      ],
      "text/plain": [
       "                                      Neighborhood  Doctor's Office\n",
       "0  Bathurst Manor, Downsview North, Wilson Heights               28\n",
       "1                      CFB Toronto, Downsview East               28\n",
       "2                                 Willowdale South               28\n",
       "3                                 Emery, Humberlea               28\n",
       "4                                  Don Mills North               28\n",
       "5                Bedford Park, Lawrence Manor East               28\n",
       "6                 Flemingdon Park, Don Mills South               28\n",
       "7                                  Bayview Village               28\n",
       "8                                  York Mills West               27\n",
       "9                                Downsview Central               27"
      ]
     },
     "execution_count": 13,
     "metadata": {},
     "output_type": "execute_result"
    }
   ],
   "source": [
    "print(\"Table 3 - Top 10 Neighborhoods with the highest number of Healthcare Facilities classified as Doctor's Offices.\")\n",
    "pd.read_csv('neighborhood_with_Dr_Offices.csv')"
   ]
  },
  {
   "cell_type": "markdown",
   "metadata": {},
   "source": [
    "The Downsview Central neighborhood had the highest number of healthcare facilities, classified as Medical Center (29 facilities). Four other neighborhoods had 27 facilities each, classified as Medical Center. See table 4."
   ]
  },
  {
   "cell_type": "code",
   "execution_count": 14,
   "metadata": {},
   "outputs": [
    {
     "name": "stdout",
     "output_type": "stream",
     "text": [
      "Table 3 - Top 10 Neighborhoods with the highest number of Healthcare Facilities classified as Medical Center.\n"
     ]
    },
    {
     "data": {
      "text/html": [
       "<div>\n",
       "<style>\n",
       "    .dataframe thead tr:only-child th {\n",
       "        text-align: right;\n",
       "    }\n",
       "\n",
       "    .dataframe thead th {\n",
       "        text-align: left;\n",
       "    }\n",
       "\n",
       "    .dataframe tbody tr th {\n",
       "        vertical-align: top;\n",
       "    }\n",
       "</style>\n",
       "<table border=\"1\" class=\"dataframe\">\n",
       "  <thead>\n",
       "    <tr style=\"text-align: right;\">\n",
       "      <th></th>\n",
       "      <th>Neighborhood</th>\n",
       "      <th>Medical Center</th>\n",
       "    </tr>\n",
       "  </thead>\n",
       "  <tbody>\n",
       "    <tr>\n",
       "      <th>0</th>\n",
       "      <td>The Annex, North Midtown, Yorkville</td>\n",
       "      <td>28</td>\n",
       "    </tr>\n",
       "    <tr>\n",
       "      <th>1</th>\n",
       "      <td>Forest Hill North, Forest Hill West</td>\n",
       "      <td>27</td>\n",
       "    </tr>\n",
       "    <tr>\n",
       "      <th>2</th>\n",
       "      <td>Parkdale, Roncesvalles</td>\n",
       "      <td>27</td>\n",
       "    </tr>\n",
       "    <tr>\n",
       "      <th>3</th>\n",
       "      <td>Humewood-Cedarvale</td>\n",
       "      <td>27</td>\n",
       "    </tr>\n",
       "    <tr>\n",
       "      <th>4</th>\n",
       "      <td>Harbord, University of Toronto</td>\n",
       "      <td>27</td>\n",
       "    </tr>\n",
       "    <tr>\n",
       "      <th>5</th>\n",
       "      <td>Harbourfront East, Toronto Islands, Union Station</td>\n",
       "      <td>26</td>\n",
       "    </tr>\n",
       "    <tr>\n",
       "      <th>6</th>\n",
       "      <td>First Canadian Place, Underground city</td>\n",
       "      <td>26</td>\n",
       "    </tr>\n",
       "    <tr>\n",
       "      <th>7</th>\n",
       "      <td>Alderwood, Long Branch</td>\n",
       "      <td>26</td>\n",
       "    </tr>\n",
       "    <tr>\n",
       "      <th>8</th>\n",
       "      <td>Chinatown, Grange Park, Kensington Market</td>\n",
       "      <td>26</td>\n",
       "    </tr>\n",
       "    <tr>\n",
       "      <th>9</th>\n",
       "      <td>Christie</td>\n",
       "      <td>26</td>\n",
       "    </tr>\n",
       "  </tbody>\n",
       "</table>\n",
       "</div>"
      ],
      "text/plain": [
       "                                        Neighborhood  Medical Center\n",
       "0                The Annex, North Midtown, Yorkville              28\n",
       "1                Forest Hill North, Forest Hill West              27\n",
       "2                             Parkdale, Roncesvalles              27\n",
       "3                                 Humewood-Cedarvale              27\n",
       "4                     Harbord, University of Toronto              27\n",
       "5  Harbourfront East, Toronto Islands, Union Station              26\n",
       "6             First Canadian Place, Underground city              26\n",
       "7                             Alderwood, Long Branch              26\n",
       "8          Chinatown, Grange Park, Kensington Market              26\n",
       "9                                           Christie              26"
      ]
     },
     "execution_count": 14,
     "metadata": {},
     "output_type": "execute_result"
    }
   ],
   "source": [
    "print(\"Table 3 - Top 10 Neighborhoods with the highest number of Healthcare Facilities classified as Medical Center.\")\n",
    "pd.read_csv('neighborhood_Medical_Center.csv')"
   ]
  },
  {
   "cell_type": "markdown",
   "metadata": {},
   "source": [
    "There were 28 Neighborhoods that did not have any healthcare facility, classified as Medical Laboratory. The Central Bay Street neighborhood had the highest number of healthcare facilities classified as Medical Laboratory (n=6), followed by seven other neighborhoods that had 5 facilities each, classified as Medical Laboratory, see Table 4."
   ]
  },
  {
   "cell_type": "code",
   "execution_count": 15,
   "metadata": {},
   "outputs": [
    {
     "name": "stdout",
     "output_type": "stream",
     "text": [
      "Table 4 - Top 10 Neighborhoods with the highest number of Healthcare Facilities classified as Medical Laboratory.\n"
     ]
    },
    {
     "data": {
      "text/html": [
       "<div>\n",
       "<style>\n",
       "    .dataframe thead tr:only-child th {\n",
       "        text-align: right;\n",
       "    }\n",
       "\n",
       "    .dataframe thead th {\n",
       "        text-align: left;\n",
       "    }\n",
       "\n",
       "    .dataframe tbody tr th {\n",
       "        vertical-align: top;\n",
       "    }\n",
       "</style>\n",
       "<table border=\"1\" class=\"dataframe\">\n",
       "  <thead>\n",
       "    <tr style=\"text-align: right;\">\n",
       "      <th></th>\n",
       "      <th>Neighborhood</th>\n",
       "      <th>Medical Lab</th>\n",
       "    </tr>\n",
       "  </thead>\n",
       "  <tbody>\n",
       "    <tr>\n",
       "      <th>0</th>\n",
       "      <td>Central Bay Street</td>\n",
       "      <td>6</td>\n",
       "    </tr>\n",
       "    <tr>\n",
       "      <th>1</th>\n",
       "      <td>Harbourfront East, Toronto Islands, Union Station</td>\n",
       "      <td>5</td>\n",
       "    </tr>\n",
       "    <tr>\n",
       "      <th>2</th>\n",
       "      <td>First Canadian Place, Underground city</td>\n",
       "      <td>5</td>\n",
       "    </tr>\n",
       "    <tr>\n",
       "      <th>3</th>\n",
       "      <td>Commerce Court, Victoria Hotel</td>\n",
       "      <td>5</td>\n",
       "    </tr>\n",
       "    <tr>\n",
       "      <th>4</th>\n",
       "      <td>Chinatown, Grange Park, Kensington Market</td>\n",
       "      <td>5</td>\n",
       "    </tr>\n",
       "    <tr>\n",
       "      <th>5</th>\n",
       "      <td>Adelaide, King, Richmond</td>\n",
       "      <td>5</td>\n",
       "    </tr>\n",
       "    <tr>\n",
       "      <th>6</th>\n",
       "      <td>Queen's Park</td>\n",
       "      <td>5</td>\n",
       "    </tr>\n",
       "    <tr>\n",
       "      <th>7</th>\n",
       "      <td>Design Exchange, Toronto Dominion Centre</td>\n",
       "      <td>5</td>\n",
       "    </tr>\n",
       "    <tr>\n",
       "      <th>8</th>\n",
       "      <td>CN Tower, Bathurst Quay, Island airport, Harbo...</td>\n",
       "      <td>4</td>\n",
       "    </tr>\n",
       "    <tr>\n",
       "      <th>9</th>\n",
       "      <td>Little Portugal, Trinity</td>\n",
       "      <td>4</td>\n",
       "    </tr>\n",
       "  </tbody>\n",
       "</table>\n",
       "</div>"
      ],
      "text/plain": [
       "                                        Neighborhood  Medical Lab\n",
       "0                                 Central Bay Street            6\n",
       "1  Harbourfront East, Toronto Islands, Union Station            5\n",
       "2             First Canadian Place, Underground city            5\n",
       "3                     Commerce Court, Victoria Hotel            5\n",
       "4          Chinatown, Grange Park, Kensington Market            5\n",
       "5                           Adelaide, King, Richmond            5\n",
       "6                                       Queen's Park            5\n",
       "7           Design Exchange, Toronto Dominion Centre            5\n",
       "8  CN Tower, Bathurst Quay, Island airport, Harbo...            4\n",
       "9                           Little Portugal, Trinity            4"
      ]
     },
     "execution_count": 15,
     "metadata": {},
     "output_type": "execute_result"
    }
   ],
   "source": [
    "print(\"Table 4 - Top 10 Neighborhoods with the highest number of Healthcare Facilities classified as Medical Laboratory.\")\n",
    "pd.read_csv('neighborhood_with_labs.csv')"
   ]
  },
  {
   "cell_type": "markdown",
   "metadata": {},
   "source": [
    "In the same vein, there were 20 neighborhoods that did not have any healthcare facilities classified as Dentist's Office. There were two neighborhoods that had the highest number of healcare facilities, classified as Dentist's Office and each of them had six Dentist's Offices as seen in Table 5."
   ]
  },
  {
   "cell_type": "code",
   "execution_count": 16,
   "metadata": {},
   "outputs": [
    {
     "name": "stdout",
     "output_type": "stream",
     "text": [
      "Table 5 - Top 10 Neighborhoods with the highest number of Healthcare Facilities classified as Dentist's Office.\n"
     ]
    },
    {
     "data": {
      "text/html": [
       "<div>\n",
       "<style>\n",
       "    .dataframe thead tr:only-child th {\n",
       "        text-align: right;\n",
       "    }\n",
       "\n",
       "    .dataframe thead th {\n",
       "        text-align: left;\n",
       "    }\n",
       "\n",
       "    .dataframe tbody tr th {\n",
       "        vertical-align: top;\n",
       "    }\n",
       "</style>\n",
       "<table border=\"1\" class=\"dataframe\">\n",
       "  <thead>\n",
       "    <tr style=\"text-align: right;\">\n",
       "      <th></th>\n",
       "      <th>Neighborhood</th>\n",
       "      <th>Dentist's Office</th>\n",
       "    </tr>\n",
       "  </thead>\n",
       "  <tbody>\n",
       "    <tr>\n",
       "      <th>0</th>\n",
       "      <td>York Mills West</td>\n",
       "      <td>6</td>\n",
       "    </tr>\n",
       "    <tr>\n",
       "      <th>1</th>\n",
       "      <td>Bathurst Manor, Downsview North, Wilson Heights</td>\n",
       "      <td>6</td>\n",
       "    </tr>\n",
       "    <tr>\n",
       "      <th>2</th>\n",
       "      <td>Willowdale West</td>\n",
       "      <td>5</td>\n",
       "    </tr>\n",
       "    <tr>\n",
       "      <th>3</th>\n",
       "      <td>Agincourt North, L'Amoreaux East, Milliken, St...</td>\n",
       "      <td>5</td>\n",
       "    </tr>\n",
       "    <tr>\n",
       "      <th>4</th>\n",
       "      <td>Newtonbrook, Willowdale</td>\n",
       "      <td>5</td>\n",
       "    </tr>\n",
       "    <tr>\n",
       "      <th>5</th>\n",
       "      <td>Bayview Village</td>\n",
       "      <td>5</td>\n",
       "    </tr>\n",
       "    <tr>\n",
       "      <th>6</th>\n",
       "      <td>Willowdale South</td>\n",
       "      <td>5</td>\n",
       "    </tr>\n",
       "    <tr>\n",
       "      <th>7</th>\n",
       "      <td>L'Amoreaux West</td>\n",
       "      <td>4</td>\n",
       "    </tr>\n",
       "    <tr>\n",
       "      <th>8</th>\n",
       "      <td>Northwood Park, York University</td>\n",
       "      <td>4</td>\n",
       "    </tr>\n",
       "    <tr>\n",
       "      <th>9</th>\n",
       "      <td>Hillcrest Village</td>\n",
       "      <td>4</td>\n",
       "    </tr>\n",
       "  </tbody>\n",
       "</table>\n",
       "</div>"
      ],
      "text/plain": [
       "                                        Neighborhood  Dentist's Office\n",
       "0                                    York Mills West                 6\n",
       "1    Bathurst Manor, Downsview North, Wilson Heights                 6\n",
       "2                                    Willowdale West                 5\n",
       "3  Agincourt North, L'Amoreaux East, Milliken, St...                 5\n",
       "4                            Newtonbrook, Willowdale                 5\n",
       "5                                    Bayview Village                 5\n",
       "6                                   Willowdale South                 5\n",
       "7                                    L'Amoreaux West                 4\n",
       "8                    Northwood Park, York University                 4\n",
       "9                                  Hillcrest Village                 4"
      ]
     },
     "execution_count": 16,
     "metadata": {},
     "output_type": "execute_result"
    }
   ],
   "source": [
    "print(\"Table 5 - Top 10 Neighborhoods with the highest number of Healthcare Facilities classified as Dentist's Office.\")\n",
    "pd.read_csv('neighborhood_with_dentist.csv')"
   ]
  },
  {
   "cell_type": "markdown",
   "metadata": {},
   "source": [
    "The neighborhoods were clustered into five clusters, with each cluster, varying significantly from the other. There were 36 neighborhoods in cluster 1 (red colour), 18 in cluster 2 (Purple colour), 17 in cluster 3 (Blue colour), 26 in cluster 4 (Green colour) and 6 in cluster 5 (Orange colour), See Figure 1. See the following Jupyter notebook for details on the clusters (https://github.com/LarryKK/My-First-Github/blob/master/Capstone%20Project%20-%20Code%20-%20Week%205.ipynb)."
   ]
  },
  {
   "cell_type": "markdown",
   "metadata": {},
   "source": [
    "Figure 1 - Clusters of Similar Neighborhoods in terms of the Top 10 most common Healthcare Facilities"
   ]
  },
  {
   "attachments": {
    "Map%20of%20Toronto.JPG": {
     "image/jpeg": "[encoded data removed]"
    }
   },
   "cell_type": "markdown",
   "metadata": {},
   "source": [
    "![Map%20of%20Toronto.JPG](attachment:Map%20of%20Toronto.JPG)"
   ]
  },
  {
   "cell_type": "markdown",
   "metadata": {},
   "source": [
    "#### Discussion"
   ]
  },
  {
   "cell_type": "markdown",
   "metadata": {},
   "source": [
    "This study has shown the neighbourhoods that have the best healthcare services and those that have the least. Out of 103 neighborhoods that were included in the analysis, 66 of them do not have any hospital, 27 neighborhoods did not have any medical laboratory and 20 did not have any Dentist's office. The most common type of healthcare facility was the Doctor's Office with 2,238 facilities, followed by the Medical center with 2,055 facilities. This study has also grouped together and revealed in interactive map visualization, the similarities between neighborhoods. The least common types of healthcare facilities included Maternity Clinic (n=3), Eye Doctor (n=6), Acupuncturist (n=7), Mental Health Office (n=7)."
   ]
  },
  {
   "cell_type": "markdown",
   "metadata": {},
   "source": [
    "#### Conclusion"
   ]
  },
  {
   "cell_type": "markdown",
   "metadata": {},
   "source": [
    "The results in this study will be useful to a cross section of interested stakeholders in the community. Interested users, ie people who consider healthcare availability as an important factor in decision making about buying property or moving to a new neighborhood, are therefore armed with relevant information, concerning healthcare facility availability that can help them make informed decisions when buying property or moving to a new neighborhood."
   ]
  },
  {
   "cell_type": "markdown",
   "metadata": {},
   "source": [
    "#### Limitations\n",
    "There are some limitations peculiar to this study. for example, it is not possible to confirm that the FourSquare database accounts for all the healthcare facilities in the Toronto neighborhoods. Even for the categories of healthcare facilities that exist in the FourSquare database, it is not possible to confirm that the data is exhaustive."
   ]
  },
  {
   "cell_type": "code",
   "execution_count": null,
   "metadata": {
    "collapsed": true
   },
   "outputs": [],
   "source": []
  }
 ],
 "metadata": {
  "kernelspec": {
   "display_name": "Python 3",
   "language": "python",
   "name": "python3"
  },
  "language_info": {
   "codemirror_mode": {
    "name": "ipython",
    "version": 3
   },
   "file_extension": ".py",
   "mimetype": "text/x-python",
   "name": "python",
   "nbconvert_exporter": "python",
   "pygments_lexer": "ipython3",
   "version": "3.6.3"
  }
 },
 "nbformat": 4,
 "nbformat_minor": 2
}
